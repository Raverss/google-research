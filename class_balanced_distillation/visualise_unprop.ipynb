{
 "cells": [
  {
   "cell_type": "code",
   "execution_count": null,
   "metadata": {},
   "outputs": [],
   "source": [
    "# dirty way of adding paths\n",
    "import sys\n",
    "sys.path.append(\"..\")\n",
    "sys.path.append(\"../..\")\n",
    "\n",
    "import os\n",
    "os.environ[\"CUDA_VISIBLE_DEVICES\"] = \"1\" # 0 for a single gpu"
   ]
  },
  {
   "cell_type": "code",
   "execution_count": null,
   "metadata": {},
   "outputs": [],
   "source": [
    "import matplotlib.pyplot as plt\n",
    "import input_pipeline\n",
    "import tensorflow as tf\n",
    "from configs.stage_one_vanilla_seed1_unprop import get_config"
   ]
  },
  {
   "cell_type": "code",
   "execution_count": null,
   "metadata": {},
   "outputs": [],
   "source": [
    "gpus = tf.config.list_physical_devices(\"GPU\")\n",
    "for gpu in gpus:\n",
    "    tf.config.experimental.set_memory_growth(gpu, True)\n",
    "\n",
    "devices = tf.config.experimental.list_logical_devices(device_type=\"GPU\")\n",
    "devices = [d.name for d in devices]\n",
    "if len(devices) == 1:\n",
    "    strategy = tf.distribute.OneDeviceStrategy(devices[0])\n",
    "else:\n",
    "    # we only consider a single gpu for simplicity sake\n",
    "    raise ValueError()"
   ]
  },
  {
   "cell_type": "code",
   "execution_count": null,
   "metadata": {},
   "outputs": [],
   "source": [
    "config = get_config()"
   ]
  },
  {
   "cell_type": "code",
   "execution_count": null,
   "metadata": {},
   "outputs": [],
   "source": [
    "# copy pasted from input_pipeline.py\n",
    "tf_rng, data_rng = tf.random.experimental.stateless_split((config.seed, 0), 2)\n",
    "ds_info, train_ds, val_ds, test_ds = input_pipeline.create_datasets(config, data_rng, strategy=strategy)\n",
    "train_iter = iter(train_ds)"
   ]
  },
  {
   "cell_type": "code",
   "execution_count": null,
   "metadata": {},
   "outputs": [],
   "source": [
    "# batch of data\n",
    "data = next(train_iter)"
   ]
  },
  {
   "cell_type": "code",
   "execution_count": null,
   "metadata": {},
   "outputs": [],
   "source": [
    "imgs = data[\"image\"]\n",
    "\n",
    "s = 24\n",
    "fig = plt.figure(figsize=(s, s), dpi=120)\n",
    "\n",
    "# batch size 128 therefore 12 x 12 images plot\n",
    "for i, img in enumerate(imgs):\n",
    "    ax = fig.add_subplot(12, 12, i+1)\n",
    "    _ = ax.imshow(img)"
   ]
  }
 ],
 "metadata": {
  "kernelspec": {
   "display_name": "Python 3.10.8 ('unprop')",
   "language": "python",
   "name": "python3"
  },
  "language_info": {
   "codemirror_mode": {
    "name": "ipython",
    "version": 3
   },
   "file_extension": ".py",
   "mimetype": "text/x-python",
   "name": "python",
   "nbconvert_exporter": "python",
   "pygments_lexer": "ipython3",
   "version": "3.10.8"
  },
  "orig_nbformat": 4,
  "vscode": {
   "interpreter": {
    "hash": "c5cf8f3b15835d3548480aa304ca14d9ada2f31bd04262161b13d4b70fbc79fe"
   }
  }
 },
 "nbformat": 4,
 "nbformat_minor": 2
}
